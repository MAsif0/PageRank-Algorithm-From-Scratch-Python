{
  "cells": [
    {
      "cell_type": "markdown",
      "metadata": {
        "id": "WQD2A1BD1XrI"
      },
      "source": [
        "<font color= 'blue'>Problem 3:  \n",
        "\n",
        "Recall that the PageRank vector is defined based on the random surfer model. In this problem, we consider the computation of PageRank vectors. We let the teleport probability a be equal to 0.2 throughout this problem.\n",
        "\n",
        "<font color= 'blue'>(a) \n",
        "\n",
        "Consider the graph shown in Figure 1. Let x = [X1, X2, X3, X4] denote the PageRank vector for this graph, with teleport probability equal to a. Write down the system of linear equations for the (global) PageRank vector. Then, find x by using the matrix inverse function from numpy."
      ]
    },
    {
      "cell_type": "code",
      "execution_count": 9,
      "metadata": {
        "id": "253SuPeZ1MIr"
      },
      "outputs": [],
      "source": [
        "import numpy as np"
      ]
    },
    {
      "cell_type": "markdown",
      "metadata": {
        "id": "gNtYNemr3QWL"
      },
      "source": [
        "<font color ='yellow'>The PageRank formula is \n",
        "\n",
        "$$ PR(i) = \\frac{1 - d}{N} + d \\sum_{j \\rightarrow i} \\frac{PR(j)}{L(j)} $$\n",
        "\n",
        "<font color ='yellow'>where, \n",
        "\n",
        "$PR(i)$ is the PageRank score of node $i$\\\n",
        "$d$ is the teleport probability\\\n",
        "$N$ is the total number of nodes in the graph\\\n",
        "$PR(j)$ is the PageRank score of a node $j$ that points to node $i$\\\n",
        "$L(j)$ is the number of outgoing links from node $j$\\\n",
        "$\\sum_{j \\rightarrow i}$ is the sum over all nodes $j$ that have an outgoing link to node $i$\\\n",
        "$\\frac{PR(j)}{L(j)}$ is the PageRank score of node $j$ divided by the number of outgoing links from node $j$"
      ]
    },
    {
      "cell_type": "code",
      "execution_count": 10,
      "metadata": {
        "id": "f9m6S6PY1SR6"
      },
      "outputs": [],
      "source": [
        "\n",
        "def pageRank(graph, teleport_prob=0.2, personalized_node=None):\n",
        "    \"\"\"\n",
        "    Computes the global and personalized PageRank vectors for a given graph.\n",
        "\n",
        "    Parameters:\n",
        "        - graph: A dictionary of lists representing the directed edges in the graph.\n",
        "                 The keys are the node names, and the values are lists of the nodes\n",
        "                 that the key node points to.\n",
        "        - teleport_prob: The probability of teleporting to a random node in the graph.\n",
        "                         Default is 0.2.\n",
        "        - personalized_node: The node from which to compute the personalized PageRank\n",
        "                             vector. If None, the global PageRank vector is computed.\n",
        "                             Default is None.\n",
        "\n",
        "    Returns:\n",
        "        - x: The PageRank vector for the given graph and teleport probability.\n",
        "             If personalized_node is None, this is the global PageRank vector.\n",
        "             If personalized_node is not None, this is the personalized PageRank vector\n",
        "             from the given node.\n",
        "    \"\"\"\n",
        "    num_nodes = len(graph)\n",
        "    nodes = list(graph.keys())\n",
        "    nodes.sort()\n",
        "    A = np.zeros((num_nodes, num_nodes))\n",
        "    for i in range(num_nodes):\n",
        "        for j in range(num_nodes):\n",
        "            if nodes[j] in graph[nodes[i]]:\n",
        "                A[i, j] = 1\n",
        "    A = A / np.sum(A, axis=1, keepdims=True)\n",
        "    A = teleport_prob * A + (1 - teleport_prob) / num_nodes * np.ones((num_nodes, num_nodes))\n",
        "    if personalized_node is None:\n",
        "        x = np.ones(num_nodes) / num_nodes\n",
        "    else:\n",
        "        x = np.zeros(num_nodes)\n",
        "        x[nodes.index(personalized_node)] = 1\n",
        "    while True:\n",
        "        x_new = np.matmul(A, x)\n",
        "        if np.linalg.norm(x_new - x) < 1e-6:\n",
        "            break\n",
        "        x = x_new\n",
        "    return x.ravel()\n"
      ]
    },
    {
      "cell_type": "code",
      "execution_count": 11,
      "metadata": {
        "colab": {
          "base_uri": "https://localhost:8080/"
        },
        "id": "wzvYrhuO45AL",
        "outputId": "0ac917d3-aaea-467d-ee2b-9cf51e8bbf2e"
      },
      "outputs": [
        {
          "name": "stdout",
          "output_type": "stream",
          "text": [
            "Global PageRank: [0.88884731 2.31100299 2.1613024  0.88884731]\n"
          ]
        }
      ],
      "source": [
        "graph = {\n",
        "    '1': ['2'],\n",
        "    '2': ['3'],\n",
        "    '3': ['1','2','4'],\n",
        "    '4': ['2']\n",
        "}\n",
        "\n",
        "global_pagerank = pageRank(graph)\n",
        "print(\"Global PageRank:\", global_pagerank)"
      ]
    },
    {
      "cell_type": "markdown",
      "metadata": {
        "id": "x1USuIHQ8IaD"
      },
      "source": [
        "<font color ='blue'>(b) For the same Figure 1 can you find out the personalized PageRank vector from node 1?"
      ]
    },
    {
      "cell_type": "code",
      "execution_count": 12,
      "metadata": {
        "colab": {
          "base_uri": "https://localhost:8080/"
        },
        "id": "4QR7FFiH5EhA",
        "outputId": "b22e5af0-cc63-4dbf-e254-0e501cb96e08"
      },
      "outputs": [
        {
          "name": "stdout",
          "output_type": "stream",
          "text": [
            "Personalized PageRank from node 1: [1.2488024  1.80688623 1.49550898 0.4488024 ]\n",
            "Personalized PageRank from node 2: [0.5254491  2.16616766 1.78293413 0.5254491 ]\n",
            "Personalized PageRank from node 3: [0.62125749 1.61526946 2.14221557 0.62125749]\n",
            "Personalized PageRank from node 4: [0.4488024  1.80688623 1.49550898 1.2488024 ]\n"
          ]
        }
      ],
      "source": [
        "personalized_pagerank = pageRank(graph, personalized_node='1')\n",
        "personalized_pagerank2 = pageRank(graph, personalized_node='2')\n",
        "personalized_pagerank3 = pageRank(graph, personalized_node='3')\n",
        "personalized_pagerank4 = pageRank(graph, personalized_node='4')\n",
        "print(\"Personalized PageRank from node 1:\", personalized_pagerank)\n",
        "print(\"Personalized PageRank from node 2:\", personalized_pagerank2)\n",
        "print(\"Personalized PageRank from node 3:\", personalized_pagerank3)\n",
        "print(\"Personalized PageRank from node 4:\", personalized_pagerank4)"
      ]
    },
    {
      "cell_type": "code",
      "execution_count": 8,
      "metadata": {
        "id": "Vql-3AMR8YDq"
      },
      "outputs": [],
      "source": []
    }
  ],
  "metadata": {
    "colab": {
      "provenance": []
    },
    "kernelspec": {
      "display_name": "Python 3",
      "name": "python3"
    },
    "language_info": {
      "codemirror_mode": {
        "name": "ipython",
        "version": 3
      },
      "file_extension": ".py",
      "mimetype": "text/x-python",
      "name": "python",
      "nbconvert_exporter": "python",
      "pygments_lexer": "ipython3",
      "version": "3.9.13"
    }
  },
  "nbformat": 4,
  "nbformat_minor": 0
}
